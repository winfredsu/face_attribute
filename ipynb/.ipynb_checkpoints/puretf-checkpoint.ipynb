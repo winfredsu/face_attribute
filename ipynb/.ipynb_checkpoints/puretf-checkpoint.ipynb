{
 "cells": [
  {
   "cell_type": "markdown",
   "metadata": {},
   "source": [
    "# PURE-TF (1.13.0rc2) FaceAttribute"
   ]
  },
  {
   "cell_type": "code",
   "execution_count": 2,
   "metadata": {},
   "outputs": [],
   "source": [
    "import tensorflow as tf\n",
    "import numpy as np\n",
    "import random\n",
    "import os\n",
    "\n",
    "tf.enable_eager_execution()\n",
    "AUTOTUNE = tf.data.experimental.AUTOTUNE\n",
    "NUM_IMGS = 202599"
   ]
  },
  {
   "cell_type": "markdown",
   "metadata": {},
   "source": [
    "## 1. Dataset"
   ]
  },
  {
   "cell_type": "code",
   "execution_count": 3,
   "metadata": {},
   "outputs": [],
   "source": [
    "def load_labels(labels_path):\n",
    "    f = open(labels_path)\n",
    "    # line 1: number of images\n",
    "    num_imgs = int(f.readline())\n",
    "    # line 2: attribute names, 40 in total\n",
    "    attr_names = f.readline().split()\n",
    "    # line 3 to end: 00xx.jpg -1 1 -1 1 ...\n",
    "    labels = []\n",
    "    for i in range(num_imgs):\n",
    "        labels.append(list(map(np.float32, f.readline().split()[1:])))\n",
    "    labels = np.array(labels)\n",
    "    labels[labels<0] = 0\n",
    "    return labels\n",
    "\n",
    "def load_imgs(imgs_dir):\n",
    "    img_paths = os.listdir(imgs_dir)\n",
    "    img_paths.sort()\n",
    "    for i in range(len(img_paths)):\n",
    "        img_paths[i] = os.path.join(imgs_dir,img_paths[i])\n",
    "    return img_paths\n",
    "\n",
    "def preprocess(img_path):\n",
    "    img = tf.io.read_file(img_path)\n",
    "    img = tf.image.decode_jpeg(img, channels=3)\n",
    "    # uint8 range: [0,255]\n",
    "    img = tf.image.resize(img, [192, 160])\n",
    "    # new range: [-128,127]\n",
    "    img -= 128\n",
    "    img = tf.image.convert_image_dtype(img, tf.int8, saturate=True)\n",
    "    return img    \n",
    "\n",
    "def parse(x):\n",
    "    result = tf.parse_tensor(x, out_type=tf.int8)\n",
    "    result = tf.reshape(result, (192,160,3))\n",
    "    return result\n",
    "\n",
    "if os.path.exists('../dataset/tfrec') == False:\n",
    "    os.mkdir('../dataset/tfrec')\n",
    "    imgs_dir  = '../dataset/img_align_celeba'\n",
    "    img_paths = load_imgs(imgs_dir)\n",
    "    ds_imgs = tf.data.Dataset.from_tensor_slices(img_paths).map(preprocess)\n",
    "    ds_imgs_serialized = ds_imgs.map(tf.serialize_tensor)\n",
    "    tfrec = tf.data.experimental.TFRecordWriter('../dataset/tfrec/imgs.tfrec')\n",
    "    tfrec.write(ds_imgs_serialized)\n",
    "else: \n",
    "    ds_imgs = tf.data.TFRecordDataset('../dataset/tfrec/imgs.tfrec')\n",
    "    ds_imgs = ds_imgs.map(parse, num_parallel_calls=AUTOTUNE)\n",
    "\n",
    "labels_path = '../dataset/list_attr_celeba.txt'\n",
    "ds_labels = tf.data.Dataset.from_tensor_slices(load_labels(labels_path))\n",
    "ds_celeba = tf.data.Dataset.zip((ds_imgs, ds_labels))\n",
    "ds_celeba = ds_celeba.apply(tf.data.experimental.shuffle_and_repeat(buffer_size=8192*4))\n",
    "ds_celeba = ds_celeba.batch(32).prefetch(AUTOTUNE)\n"
   ]
  },
  {
   "cell_type": "markdown",
   "metadata": {},
   "source": [
    "## 2. Train with Keras "
   ]
  },
  {
   "cell_type": "code",
   "execution_count": 5,
   "metadata": {},
   "outputs": [
    {
     "name": "stdout",
     "output_type": "stream",
     "text": [
      "WARNING:tensorflow:From /home/winfred/anaconda3/lib/python3.6/site-packages/tensorflow/python/ops/resource_variable_ops.py:642: colocate_with (from tensorflow.python.framework.ops) is deprecated and will be removed in a future version.\n",
      "Instructions for updating:\n",
      "Colocations handled automatically by placer.\n",
      "_________________________________________________________________\n",
      "Layer (type)                 Output Shape              Param #   \n",
      "=================================================================\n",
      "mobilenet_0.50_192 (Model)   (None, 512)               829536    \n",
      "_________________________________________________________________\n",
      "top_dense (Dense)            (None, 40)                20520     \n",
      "=================================================================\n",
      "Total params: 850,056\n",
      "Trainable params: 839,112\n",
      "Non-trainable params: 10,944\n",
      "_________________________________________________________________\n"
     ]
    }
   ],
   "source": [
    "mnet = tf.keras.applications.mobilenet.MobileNet(input_shape=(192,160,3),alpha=0.5,include_top=False,weights=None,pooling='avg')\n",
    "mnet = tf.keras.Sequential([mnet,tf.keras.layers.Dense(40,activation='sigmoid',name='top_dense')], name='mnet_050_faceattr')\n",
    "mnet.summary()\n",
    "\n",
    "mnet.compile(optimizer=tf.keras.optimizers.RMSprop(),\n",
    "            loss='binary_crossentropy',\n",
    "            metrics=['binary_accuracy'])\n",
    "\n",
    "mnet.fit(ds_celeba, epochs=5, steps_per_epoch=20, verbose=2)\n"
   ]
  }
 ],
 "metadata": {
  "kernelspec": {
   "display_name": "Python 3",
   "language": "python",
   "name": "python3"
  },
  "language_info": {
   "codemirror_mode": {
    "name": "ipython",
    "version": 3
   },
   "file_extension": ".py",
   "mimetype": "text/x-python",
   "name": "python",
   "nbconvert_exporter": "python",
   "pygments_lexer": "ipython3",
   "version": "3.6.5"
  }
 },
 "nbformat": 4,
 "nbformat_minor": 2
}
