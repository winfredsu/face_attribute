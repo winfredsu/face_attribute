{
 "cells": [
  {
   "cell_type": "markdown",
   "metadata": {},
   "source": [
    "# KERAS-TF2.0-FaceAttribute"
   ]
  },
  {
   "cell_type": "markdown",
   "metadata": {},
   "source": [
    "## 1. Dataset"
   ]
  },
  {
   "cell_type": "code",
   "execution_count": 2,
   "metadata": {},
   "outputs": [],
   "source": [
    "import tensorflow as tf\n",
    "import numpy as np\n",
    "import random\n",
    "import os"
   ]
  },
  {
   "cell_type": "markdown",
   "metadata": {},
   "source": [
    "### Load labels"
   ]
  },
  {
   "cell_type": "code",
   "execution_count": 3,
   "metadata": {},
   "outputs": [],
   "source": [
    "def load_labels(label_file):\n",
    "    f = open(label_file)\n",
    "    # line 1: number of images\n",
    "    num_imgs = int(f.readline())\n",
    "    # line 2: attribute names, 40 in total\n",
    "    attr_names = f.readline().split()\n",
    "    # line 3 to end: 00xx.jpg -1 1 -1 1 ...\n",
    "    labels = []\n",
    "    for i in range(num_imgs):\n",
    "        labels.append(list(map(np.float32, f.readline().split()[1:])))\n",
    "    labels = np.array(labels)\n",
    "    labels[labels<0] = 0\n",
    "    return labels"
   ]
  },
  {
   "cell_type": "code",
   "execution_count": 4,
   "metadata": {},
   "outputs": [],
   "source": [
    "labels = load_labels('../dataset/list_attr_celeba.txt')"
   ]
  },
  {
   "cell_type": "markdown",
   "metadata": {},
   "source": [
    "### Load images"
   ]
  },
  {
   "cell_type": "code",
   "execution_count": 5,
   "metadata": {},
   "outputs": [],
   "source": [
    "image_dir = '../dataset/img_align_celeba'\n",
    "image_paths = os.listdir(image_dir)\n",
    "image_paths.sort()\n",
    "for i in range(len(image_paths)):\n",
    "    image_paths[i] = os.path.join(image_dir,image_paths[i])\n",
    "image_count = len(image_paths)"
   ]
  },
  {
   "cell_type": "markdown",
   "metadata": {},
   "source": [
    "### Build dataset"
   ]
  },
  {
   "cell_type": "code",
   "execution_count": 6,
   "metadata": {},
   "outputs": [],
   "source": [
    "def load_and_preprocess(path, label):\n",
    "    img = tf.io.read_file(path)\n",
    "    img = tf.image.decode_jpeg(img, channels=3)\n",
    "    # uint8 range: [0,255]\n",
    "    img = tf.image.resize(img, [192, 160])\n",
    "    # new range: [-128,127]\n",
    "    img = img-128\n",
    "    return img, label"
   ]
  },
  {
   "cell_type": "code",
   "execution_count": 7,
   "metadata": {
    "scrolled": true
   },
   "outputs": [],
   "source": [
    "celeba_ds = tf.data.Dataset.from_tensor_slices((image_paths, labels)).map(load_and_preprocess)"
   ]
  },
  {
   "cell_type": "code",
   "execution_count": 11,
   "metadata": {},
   "outputs": [],
   "source": [
    "BATCH_SIZE = 2\n",
    "ds = celeba_ds\n",
    "ds = celeba_ds.apply(\n",
    "  tf.data.experimental.shuffle_and_repeat(buffer_size=8192))\n",
    "ds = ds.batch(BATCH_SIZE)\n",
    "ds = ds.prefetch(buffer_size=tf.data.experimental.AUTOTUNE)"
   ]
  },
  {
   "cell_type": "markdown",
   "metadata": {},
   "source": [
    "## 2. Model"
   ]
  },
  {
   "cell_type": "markdown",
   "metadata": {},
   "source": [
    "### Build model"
   ]
  },
  {
   "cell_type": "code",
   "execution_count": 12,
   "metadata": {},
   "outputs": [
    {
     "name": "stdout",
     "output_type": "stream",
     "text": [
      "Model: \"sequential_1\"\n",
      "_________________________________________________________________\n",
      "Layer (type)                 Output Shape              Param #   \n",
      "=================================================================\n",
      "mobilenet_0.50_192 (Model)   (None, 512)               829536    \n",
      "_________________________________________________________________\n",
      "dense_1 (Dense)              (None, 40)                20520     \n",
      "=================================================================\n",
      "Total params: 850,056\n",
      "Trainable params: 839,112\n",
      "Non-trainable params: 10,944\n",
      "_________________________________________________________________\n"
     ]
    }
   ],
   "source": [
    "mnet = tf.keras.applications.mobilenet.MobileNet(input_shape=(192,160,3),alpha=0.5,include_top=False,weights=None,pooling='avg')\n",
    "mnet = tf.keras.Sequential([\n",
    "    mnet,\n",
    "    tf.keras.layers.Dense(labels.shape[1],activation='sigmoid')])\n",
    "mnet.compile(optimizer=tf.keras.optimizers.Adam(),\n",
    "            loss='binary_crossentropy',\n",
    "            metrics=['accuracy'])\n",
    "mnet.summary()"
   ]
  },
  {
   "cell_type": "markdown",
   "metadata": {},
   "source": [
    "## 3. Train"
   ]
  },
  {
   "cell_type": "code",
   "execution_count": 15,
   "metadata": {},
   "outputs": [
    {
     "name": "stdout",
     "output_type": "stream",
     "text": [
      "3/3 [==============================] - 13s 4s/step - loss: 0.5591 - accuracy: 0.7333\n"
     ]
    },
    {
     "data": {
      "text/plain": [
       "<tensorflow.python.keras.callbacks.History at 0x7f53dc972dd8>"
      ]
     },
     "execution_count": 15,
     "metadata": {},
     "output_type": "execute_result"
    }
   ],
   "source": [
    "mnet.fit(ds, epochs=1, steps_per_epoch=3)"
   ]
  },
  {
   "cell_type": "code",
   "execution_count": 13,
   "metadata": {},
   "outputs": [
    {
     "name": "stdout",
     "output_type": "stream",
     "text": [
      "(2, 40)\n",
      "202599\n"
     ]
    }
   ],
   "source": [
    "image_batch, label_batch = next(iter(ds))\n",
    "fm_batch = mnet(image_batch)\n",
    "print(fm_batch.shape)\n",
    "print(image_count)"
   ]
  }
 ],
 "metadata": {
  "kernelspec": {
   "display_name": "Python 3",
   "language": "python",
   "name": "python3"
  },
  "language_info": {
   "codemirror_mode": {
    "name": "ipython",
    "version": 3
   },
   "file_extension": ".py",
   "mimetype": "text/x-python",
   "name": "python",
   "nbconvert_exporter": "python",
   "pygments_lexer": "ipython3",
   "version": "3.6.5"
  }
 },
 "nbformat": 4,
 "nbformat_minor": 2
}
